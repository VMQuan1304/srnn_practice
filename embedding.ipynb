{
 "cells": [
  {
   "cell_type": "code",
   "execution_count": 1,
   "id": "b6f45389",
   "metadata": {},
   "outputs": [
    {
     "name": "stdout",
     "output_type": "stream",
     "text": [
      "1: The quick brown fox jumps over the lazy dog.\n",
      "2: Artificial intelligence is transforming the world.\n",
      "3: Python is a versatile programming language.\n",
      "4: Machine learning models require a lot of data.\n",
      "5: Natural language processing is a fascinating field.\n",
      "6: Deep learning has revolutionized computer vision.\n",
      "7: Data science combines statistics and programming.\n",
      "8: Neural networks are inspired by the human brain.\n",
      "9: Big data analytics helps in making better decisions.\n"
     ]
    }
   ],
   "source": [
    "# List of sentences for practicing word embeddings\n",
    "sentences = [\n",
    "    \"The quick brown fox jumps over the lazy dog.\",\n",
    "    \"Artificial intelligence is transforming the world.\",\n",
    "    \"Python is a versatile programming language.\",\n",
    "    \"Machine learning models require a lot of data.\",\n",
    "    \"Natural language processing is a fascinating field.\",\n",
    "    \"Deep learning has revolutionized computer vision.\",\n",
    "    \"Data science combines statistics and programming.\",\n",
    "    \"Neural networks are inspired by the human brain.\",\n",
    "    \"Big data analytics helps in making better decisions.\"\n",
    "]\n",
    "\n",
    "# Display the list of sentences\n",
    "for i, sentence in enumerate(sentences, 1):\n",
    "    print(f\"{i}: {sentence}\")"
   ]
  },
  {
   "cell_type": "code",
   "execution_count": 2,
   "id": "38c84a66",
   "metadata": {},
   "outputs": [
    {
     "name": "stdout",
     "output_type": "stream",
     "text": [
      "\n",
      "One-hot encoded representation of the first sentence: [892, 787, 484, 164, 464, 332, 892, 301, 258]\n"
     ]
    }
   ],
   "source": [
    "from tensorflow.keras.preprocessing.text import one_hot\n",
    "vocabulary_size = 1000\n",
    "# One-hot encoding of the first sentence\n",
    "encoded_sentence = one_hot(sentences[0], vocabulary_size)\n",
    "print(f\"\\nOne-hot encoded representation of the first sentence: {encoded_sentence}\")\n"
   ]
  },
  {
   "cell_type": "code",
   "execution_count": 3,
   "id": "a391837a",
   "metadata": {},
   "outputs": [
    {
     "data": {
      "text/plain": [
       "[[892, 787, 484, 164, 464, 332, 892, 301, 258],\n",
       " [267, 366, 808, 981, 892, 527],\n",
       " [703, 808, 274, 989, 686, 140],\n",
       " [241, 604, 708, 611, 274, 945, 600, 971],\n",
       " [859, 140, 800, 808, 274, 908, 93],\n",
       " [580, 604, 724, 41, 21, 604],\n",
       " [971, 996, 15, 846, 725, 686],\n",
       " [399, 87, 789, 145, 517, 892, 549, 477],\n",
       " [41, 971, 160, 803, 938, 505, 292, 286]]"
      ]
     },
     "execution_count": 3,
     "metadata": {},
     "output_type": "execute_result"
    }
   ],
   "source": [
    "# One-hot encoding of all sentences\n",
    "\n",
    "one_hot_encoded_sentences = [one_hot(senctence, vocabulary_size) for senctence in sentences]\n",
    "one_hot_encoded_sentences"
   ]
  },
  {
   "cell_type": "code",
   "execution_count": 4,
   "id": "8373da2d",
   "metadata": {},
   "outputs": [
    {
     "data": {
      "text/plain": [
       "array([[  0,   0,   0,   0,   0,   0, 892, 787, 484, 164, 464, 332, 892,\n",
       "        301, 258],\n",
       "       [  0,   0,   0,   0,   0,   0,   0,   0,   0, 267, 366, 808, 981,\n",
       "        892, 527],\n",
       "       [  0,   0,   0,   0,   0,   0,   0,   0,   0, 703, 808, 274, 989,\n",
       "        686, 140],\n",
       "       [  0,   0,   0,   0,   0,   0,   0, 241, 604, 708, 611, 274, 945,\n",
       "        600, 971],\n",
       "       [  0,   0,   0,   0,   0,   0,   0,   0, 859, 140, 800, 808, 274,\n",
       "        908,  93],\n",
       "       [  0,   0,   0,   0,   0,   0,   0,   0,   0, 580, 604, 724,  41,\n",
       "         21, 604],\n",
       "       [  0,   0,   0,   0,   0,   0,   0,   0,   0, 971, 996,  15, 846,\n",
       "        725, 686],\n",
       "       [  0,   0,   0,   0,   0,   0,   0, 399,  87, 789, 145, 517, 892,\n",
       "        549, 477],\n",
       "       [  0,   0,   0,   0,   0,   0,   0,  41, 971, 160, 803, 938, 505,\n",
       "        292, 286]])"
      ]
     },
     "execution_count": 4,
     "metadata": {},
     "output_type": "execute_result"
    }
   ],
   "source": [
    "from tensorflow.keras.layers import Embedding, Dense\n",
    "from tensorflow.keras.models import Sequential\n",
    "from tensorflow.keras.utils import pad_sequences\n",
    "import numpy as np\n",
    "# Padding the sequences to ensure uniform length\n",
    "sent_length = 15\n",
    "\n",
    "embedding_docs = pad_sequences(one_hot_encoded_sentences, maxlen=sent_length, padding='pre')\n",
    "embedding_docs\n"
   ]
  },
  {
   "cell_type": "code",
   "execution_count": 5,
   "id": "1f06f493",
   "metadata": {},
   "outputs": [
    {
     "data": {
      "text/plain": [
       "array([  0,   0,   0,   0,   0,   0, 892, 787, 484, 164, 464, 332, 892,\n",
       "       301, 258])"
      ]
     },
     "execution_count": 5,
     "metadata": {},
     "output_type": "execute_result"
    }
   ],
   "source": [
    "first_row = embedding_docs[0]\n",
    "first_row"
   ]
  },
  {
   "cell_type": "code",
   "execution_count": 6,
   "id": "c3c9814a",
   "metadata": {},
   "outputs": [
    {
     "name": "stdout",
     "output_type": "stream",
     "text": [
      "Sentence 1 after padding: [  0   0   0   0   0   0 892 787 484 164 464 332 892 301 258]\n",
      "Sentence 2 after padding: [  0   0   0   0   0   0   0   0   0 267 366 808 981 892 527]\n",
      "Sentence 3 after padding: [  0   0   0   0   0   0   0   0   0 703 808 274 989 686 140]\n",
      "Sentence 4 after padding: [  0   0   0   0   0   0   0 241 604 708 611 274 945 600 971]\n",
      "Sentence 5 after padding: [  0   0   0   0   0   0   0   0 859 140 800 808 274 908  93]\n",
      "Sentence 6 after padding: [  0   0   0   0   0   0   0   0   0 580 604 724  41  21 604]\n",
      "Sentence 7 after padding: [  0   0   0   0   0   0   0   0   0 971 996  15 846 725 686]\n",
      "Sentence 8 after padding: [  0   0   0   0   0   0   0 399  87 789 145 517 892 549 477]\n",
      "Sentence 9 after padding: [  0   0   0   0   0   0   0  41 971 160 803 938 505 292 286]\n"
     ]
    }
   ],
   "source": [
    "for i, sentence in enumerate(embedding_docs):\n",
    "    print(f\"Sentence {i+1} after padding: {sentence}\")"
   ]
  },
  {
   "cell_type": "code",
   "execution_count": 7,
   "id": "23e3e47b",
   "metadata": {},
   "outputs": [
    {
     "name": "stderr",
     "output_type": "stream",
     "text": [
      "c:\\VSCode\\Explore\\semantic_kernal\\.venv\\Lib\\site-packages\\keras\\src\\layers\\core\\embedding.py:90: UserWarning: Argument `input_length` is deprecated. Just remove it.\n",
      "  warnings.warn(\n"
     ]
    }
   ],
   "source": [
    "dim = 10\n",
    "model = Sequential()\n",
    "model.add(Embedding(vocabulary_size, dim, input_length=sent_length))\n",
    "model.build(input_shape=(None, sent_length)) # Explicitly build the model\n",
    "model.compile(optimizer='adam', loss='mse')"
   ]
  },
  {
   "cell_type": "code",
   "execution_count": 8,
   "id": "30639575",
   "metadata": {},
   "outputs": [
    {
     "data": {
      "text/html": [
       "<pre style=\"white-space:pre;overflow-x:auto;line-height:normal;font-family:Menlo,'DejaVu Sans Mono',consolas,'Courier New',monospace\"><span style=\"font-weight: bold\">Model: \"sequential\"</span>\n",
       "</pre>\n"
      ],
      "text/plain": [
       "\u001b[1mModel: \"sequential\"\u001b[0m\n"
      ]
     },
     "metadata": {},
     "output_type": "display_data"
    },
    {
     "data": {
      "text/html": [
       "<pre style=\"white-space:pre;overflow-x:auto;line-height:normal;font-family:Menlo,'DejaVu Sans Mono',consolas,'Courier New',monospace\">┏━━━━━━━━━━━━━━━━━━━━━━━━━━━━━━━━━┳━━━━━━━━━━━━━━━━━━━━━━━━┳━━━━━━━━━━━━━━━┓\n",
       "┃<span style=\"font-weight: bold\"> Layer (type)                    </span>┃<span style=\"font-weight: bold\"> Output Shape           </span>┃<span style=\"font-weight: bold\">       Param # </span>┃\n",
       "┡━━━━━━━━━━━━━━━━━━━━━━━━━━━━━━━━━╇━━━━━━━━━━━━━━━━━━━━━━━━╇━━━━━━━━━━━━━━━┩\n",
       "│ embedding (<span style=\"color: #0087ff; text-decoration-color: #0087ff\">Embedding</span>)           │ (<span style=\"color: #00d7ff; text-decoration-color: #00d7ff\">None</span>, <span style=\"color: #00af00; text-decoration-color: #00af00\">15</span>, <span style=\"color: #00af00; text-decoration-color: #00af00\">10</span>)         │        <span style=\"color: #00af00; text-decoration-color: #00af00\">10,000</span> │\n",
       "└─────────────────────────────────┴────────────────────────┴───────────────┘\n",
       "</pre>\n"
      ],
      "text/plain": [
       "┏━━━━━━━━━━━━━━━━━━━━━━━━━━━━━━━━━┳━━━━━━━━━━━━━━━━━━━━━━━━┳━━━━━━━━━━━━━━━┓\n",
       "┃\u001b[1m \u001b[0m\u001b[1mLayer (type)                   \u001b[0m\u001b[1m \u001b[0m┃\u001b[1m \u001b[0m\u001b[1mOutput Shape          \u001b[0m\u001b[1m \u001b[0m┃\u001b[1m \u001b[0m\u001b[1m      Param #\u001b[0m\u001b[1m \u001b[0m┃\n",
       "┡━━━━━━━━━━━━━━━━━━━━━━━━━━━━━━━━━╇━━━━━━━━━━━━━━━━━━━━━━━━╇━━━━━━━━━━━━━━━┩\n",
       "│ embedding (\u001b[38;5;33mEmbedding\u001b[0m)           │ (\u001b[38;5;45mNone\u001b[0m, \u001b[38;5;34m15\u001b[0m, \u001b[38;5;34m10\u001b[0m)         │        \u001b[38;5;34m10,000\u001b[0m │\n",
       "└─────────────────────────────────┴────────────────────────┴───────────────┘\n"
      ]
     },
     "metadata": {},
     "output_type": "display_data"
    },
    {
     "data": {
      "text/html": [
       "<pre style=\"white-space:pre;overflow-x:auto;line-height:normal;font-family:Menlo,'DejaVu Sans Mono',consolas,'Courier New',monospace\"><span style=\"font-weight: bold\"> Total params: </span><span style=\"color: #00af00; text-decoration-color: #00af00\">10,000</span> (39.06 KB)\n",
       "</pre>\n"
      ],
      "text/plain": [
       "\u001b[1m Total params: \u001b[0m\u001b[38;5;34m10,000\u001b[0m (39.06 KB)\n"
      ]
     },
     "metadata": {},
     "output_type": "display_data"
    },
    {
     "data": {
      "text/html": [
       "<pre style=\"white-space:pre;overflow-x:auto;line-height:normal;font-family:Menlo,'DejaVu Sans Mono',consolas,'Courier New',monospace\"><span style=\"font-weight: bold\"> Trainable params: </span><span style=\"color: #00af00; text-decoration-color: #00af00\">10,000</span> (39.06 KB)\n",
       "</pre>\n"
      ],
      "text/plain": [
       "\u001b[1m Trainable params: \u001b[0m\u001b[38;5;34m10,000\u001b[0m (39.06 KB)\n"
      ]
     },
     "metadata": {},
     "output_type": "display_data"
    },
    {
     "data": {
      "text/html": [
       "<pre style=\"white-space:pre;overflow-x:auto;line-height:normal;font-family:Menlo,'DejaVu Sans Mono',consolas,'Courier New',monospace\"><span style=\"font-weight: bold\"> Non-trainable params: </span><span style=\"color: #00af00; text-decoration-color: #00af00\">0</span> (0.00 B)\n",
       "</pre>\n"
      ],
      "text/plain": [
       "\u001b[1m Non-trainable params: \u001b[0m\u001b[38;5;34m0\u001b[0m (0.00 B)\n"
      ]
     },
     "metadata": {},
     "output_type": "display_data"
    }
   ],
   "source": [
    "model.summary()"
   ]
  },
  {
   "cell_type": "code",
   "execution_count": 9,
   "id": "0f15d1bb",
   "metadata": {},
   "outputs": [
    {
     "name": "stdout",
     "output_type": "stream",
     "text": [
      "\u001b[1m1/1\u001b[0m \u001b[32m━━━━━━━━━━━━━━━━━━━━\u001b[0m\u001b[37m\u001b[0m \u001b[1m0s\u001b[0m 238ms/step\n"
     ]
    },
    {
     "data": {
      "text/plain": [
       "array([[[ 0.02511762, -0.01511731,  0.04658642, ..., -0.01283702,\n",
       "          0.00598728,  0.0392575 ],\n",
       "        [ 0.02511762, -0.01511731,  0.04658642, ..., -0.01283702,\n",
       "          0.00598728,  0.0392575 ],\n",
       "        [ 0.02511762, -0.01511731,  0.04658642, ..., -0.01283702,\n",
       "          0.00598728,  0.0392575 ],\n",
       "        ...,\n",
       "        [-0.02112184, -0.01640648, -0.03515881, ..., -0.00531634,\n",
       "          0.00903229, -0.01476438],\n",
       "        [-0.0117575 ,  0.03966178, -0.03006696, ..., -0.00355604,\n",
       "          0.01096009,  0.01946599],\n",
       "        [-0.04990308,  0.02696748, -0.00717743, ..., -0.03220385,\n",
       "          0.00622045,  0.04724799]],\n",
       "\n",
       "       [[ 0.02511762, -0.01511731,  0.04658642, ..., -0.01283702,\n",
       "          0.00598728,  0.0392575 ],\n",
       "        [ 0.02511762, -0.01511731,  0.04658642, ..., -0.01283702,\n",
       "          0.00598728,  0.0392575 ],\n",
       "        [ 0.02511762, -0.01511731,  0.04658642, ..., -0.01283702,\n",
       "          0.00598728,  0.0392575 ],\n",
       "        ...,\n",
       "        [-0.04185014, -0.02611398,  0.0402552 , ...,  0.01882188,\n",
       "         -0.02597245,  0.01321748],\n",
       "        [-0.02112184, -0.01640648, -0.03515881, ..., -0.00531634,\n",
       "          0.00903229, -0.01476438],\n",
       "        [ 0.00171725,  0.00904948,  0.0143067 , ..., -0.01002247,\n",
       "         -0.02565572, -0.02275376]],\n",
       "\n",
       "       [[ 0.02511762, -0.01511731,  0.04658642, ..., -0.01283702,\n",
       "          0.00598728,  0.0392575 ],\n",
       "        [ 0.02511762, -0.01511731,  0.04658642, ..., -0.01283702,\n",
       "          0.00598728,  0.0392575 ],\n",
       "        [ 0.02511762, -0.01511731,  0.04658642, ..., -0.01283702,\n",
       "          0.00598728,  0.0392575 ],\n",
       "        ...,\n",
       "        [ 0.02667374,  0.01137038,  0.04680839, ..., -0.03214401,\n",
       "         -0.02689298,  0.02057997],\n",
       "        [ 0.01329595, -0.01034993,  0.04404828, ...,  0.01563977,\n",
       "          0.02009818,  0.01575876],\n",
       "        [ 0.03422514, -0.01098392,  0.03164116, ...,  0.04871461,\n",
       "         -0.01674004, -0.01093458]],\n",
       "\n",
       "       ...,\n",
       "\n",
       "       [[ 0.02511762, -0.01511731,  0.04658642, ..., -0.01283702,\n",
       "          0.00598728,  0.0392575 ],\n",
       "        [ 0.02511762, -0.01511731,  0.04658642, ..., -0.01283702,\n",
       "          0.00598728,  0.0392575 ],\n",
       "        [ 0.02511762, -0.01511731,  0.04658642, ..., -0.01283702,\n",
       "          0.00598728,  0.0392575 ],\n",
       "        ...,\n",
       "        [-0.01921066, -0.03686336,  0.04432661, ..., -0.03480539,\n",
       "         -0.01341263, -0.0336581 ],\n",
       "        [-0.04738839, -0.03815557,  0.01996828, ...,  0.02616366,\n",
       "          0.00584388,  0.04720621],\n",
       "        [ 0.01329595, -0.01034993,  0.04404828, ...,  0.01563977,\n",
       "          0.02009818,  0.01575876]],\n",
       "\n",
       "       [[ 0.02511762, -0.01511731,  0.04658642, ..., -0.01283702,\n",
       "          0.00598728,  0.0392575 ],\n",
       "        [ 0.02511762, -0.01511731,  0.04658642, ..., -0.01283702,\n",
       "          0.00598728,  0.0392575 ],\n",
       "        [ 0.02511762, -0.01511731,  0.04658642, ..., -0.01283702,\n",
       "          0.00598728,  0.0392575 ],\n",
       "        ...,\n",
       "        [-0.02112184, -0.01640648, -0.03515881, ..., -0.00531634,\n",
       "          0.00903229, -0.01476438],\n",
       "        [-0.02819184, -0.03665811, -0.00693794, ...,  0.01059005,\n",
       "          0.0095376 , -0.00909187],\n",
       "        [-0.00453068, -0.02416099, -0.03385673, ...,  0.03023985,\n",
       "         -0.01699383, -0.02840262]],\n",
       "\n",
       "       [[ 0.02511762, -0.01511731,  0.04658642, ..., -0.01283702,\n",
       "          0.00598728,  0.0392575 ],\n",
       "        [ 0.02511762, -0.01511731,  0.04658642, ..., -0.01283702,\n",
       "          0.00598728,  0.0392575 ],\n",
       "        [ 0.02511762, -0.01511731,  0.04658642, ..., -0.01283702,\n",
       "          0.00598728,  0.0392575 ],\n",
       "        ...,\n",
       "        [ 0.02858037, -0.00455821,  0.00979496, ...,  0.04225575,\n",
       "          0.02405207,  0.02008456],\n",
       "        [ 0.00429017, -0.00667642, -0.00854981, ..., -0.00991897,\n",
       "          0.03845591, -0.03439241],\n",
       "        [ 0.04252298,  0.04265102, -0.0262875 , ...,  0.00409729,\n",
       "         -0.03620218,  0.04338035]]], dtype=float32)"
      ]
     },
     "execution_count": 9,
     "metadata": {},
     "output_type": "execute_result"
    }
   ],
   "source": [
    "model.predict(embedding_docs)"
   ]
  },
  {
   "cell_type": "code",
   "execution_count": 10,
   "id": "e25f82ba",
   "metadata": {},
   "outputs": [
    {
     "name": "stdout",
     "output_type": "stream",
     "text": [
      "\u001b[1m1/1\u001b[0m \u001b[32m━━━━━━━━━━━━━━━━━━━━\u001b[0m\u001b[37m\u001b[0m \u001b[1m0s\u001b[0m 156ms/step\n"
     ]
    },
    {
     "data": {
      "text/plain": [
       "array([[[ 0.02511762, -0.01511731,  0.04658642,  0.04441735,\n",
       "         -0.02667468,  0.02506334, -0.0104434 , -0.01283702,\n",
       "          0.00598728,  0.0392575 ],\n",
       "        [ 0.02511762, -0.01511731,  0.04658642,  0.04441735,\n",
       "         -0.02667468,  0.02506334, -0.0104434 , -0.01283702,\n",
       "          0.00598728,  0.0392575 ],\n",
       "        [ 0.02511762, -0.01511731,  0.04658642,  0.04441735,\n",
       "         -0.02667468,  0.02506334, -0.0104434 , -0.01283702,\n",
       "          0.00598728,  0.0392575 ],\n",
       "        [ 0.02511762, -0.01511731,  0.04658642,  0.04441735,\n",
       "         -0.02667468,  0.02506334, -0.0104434 , -0.01283702,\n",
       "          0.00598728,  0.0392575 ],\n",
       "        [ 0.02511762, -0.01511731,  0.04658642,  0.04441735,\n",
       "         -0.02667468,  0.02506334, -0.0104434 , -0.01283702,\n",
       "          0.00598728,  0.0392575 ],\n",
       "        [ 0.02511762, -0.01511731,  0.04658642,  0.04441735,\n",
       "         -0.02667468,  0.02506334, -0.0104434 , -0.01283702,\n",
       "          0.00598728,  0.0392575 ],\n",
       "        [ 0.02511762, -0.01511731,  0.04658642,  0.04441735,\n",
       "         -0.02667468,  0.02506334, -0.0104434 , -0.01283702,\n",
       "          0.00598728,  0.0392575 ],\n",
       "        [ 0.03738626, -0.03310253, -0.04457697,  0.03173142,\n",
       "          0.04776281, -0.00981987, -0.03795324, -0.00597378,\n",
       "         -0.00049051,  0.01979372],\n",
       "        [ 0.04930421, -0.01861475,  0.01595178, -0.03672184,\n",
       "          0.01329884, -0.03857225,  0.00885944, -0.0475737 ,\n",
       "          0.04248754, -0.01292095],\n",
       "        [-0.01711589,  0.04461186, -0.0276086 , -0.04050075,\n",
       "         -0.02074238, -0.00758285,  0.0296644 ,  0.01961229,\n",
       "         -0.04572904, -0.02773187],\n",
       "        [-0.00545748, -0.01637737, -0.01400144, -0.03967922,\n",
       "         -0.0276652 , -0.00274607, -0.04433267, -0.02741296,\n",
       "         -0.04625889, -0.00981314],\n",
       "        [-0.02866212, -0.03344541, -0.02199335,  0.00856868,\n",
       "          0.04767723, -0.01761635, -0.01838128, -0.02159336,\n",
       "          0.04009867, -0.0452006 ],\n",
       "        [ 0.02858037, -0.00455821,  0.00979496,  0.01877924,\n",
       "         -0.0336775 ,  0.04392097,  0.03391733,  0.04225575,\n",
       "          0.02405207,  0.02008456],\n",
       "        [ 0.00429017, -0.00667642, -0.00854981, -0.03005203,\n",
       "          0.00234034,  0.03173349, -0.04739342, -0.00991897,\n",
       "          0.03845591, -0.03439241],\n",
       "        [ 0.04252298,  0.04265102, -0.0262875 ,  0.01743228,\n",
       "         -0.02811234, -0.0202775 , -0.03827722,  0.00409729,\n",
       "         -0.03620218,  0.04338035]]], dtype=float32)"
      ]
     },
     "execution_count": 10,
     "metadata": {},
     "output_type": "execute_result"
    }
   ],
   "source": [
    "model.predict(embedding_docs[8].reshape(1, sent_length))"
   ]
  }
 ],
 "metadata": {
  "kernelspec": {
   "display_name": ".venv (3.12.7)",
   "language": "python",
   "name": "python3"
  },
  "language_info": {
   "codemirror_mode": {
    "name": "ipython",
    "version": 3
   },
   "file_extension": ".py",
   "mimetype": "text/x-python",
   "name": "python",
   "nbconvert_exporter": "python",
   "pygments_lexer": "ipython3",
   "version": "3.12.7"
  }
 },
 "nbformat": 4,
 "nbformat_minor": 5
}
