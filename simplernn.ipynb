{
 "cells": [
  {
   "cell_type": "code",
   "execution_count": 1,
   "id": "7d1477bd",
   "metadata": {},
   "outputs": [],
   "source": [
    "import numpy as np\n",
    "import tensorflow as tf\n",
    "from tensorflow.keras.datasets import imdb\n",
    "from tensorflow.keras.preprocessing import sequence\n",
    "from tensorflow.keras.models import Sequential\n",
    "from tensorflow.keras.layers import Embedding, Dense, SimpleRNN\n"
   ]
  },
  {
   "cell_type": "code",
   "execution_count": 2,
   "id": "5b19473c",
   "metadata": {},
   "outputs": [
    {
     "name": "stdout",
     "output_type": "stream",
     "text": [
      "X_train shape: (25000,), y_train shape: (25000,)\n",
      "X_test shape: (25000,), y_test shape: (25000,)\n"
     ]
    }
   ],
   "source": [
    "max_features = 10000  # Number of unique words to consider\n",
    "\n",
    "(X_train, y_train), (X_test, y_test) = imdb.load_data(num_words=max_features)\n",
    "\n",
    "print(f\"X_train shape: {X_train.shape}, y_train shape: {y_train.shape}\")\n",
    "print(f\"X_test shape: {X_test.shape}, y_test shape: {y_test.shape}\")\n"
   ]
  },
  {
   "cell_type": "code",
   "execution_count": 3,
   "id": "e8766b5b",
   "metadata": {},
   "outputs": [
    {
     "name": "stdout",
     "output_type": "stream",
     "text": [
      "Sample review (encoded): [1, 14, 22, 16, 43, 530, 973, 1622, 1385, 65, 458, 4468, 66, 3941, 4, 173, 36, 256, 5, 25, 100, 43, 838, 112, 50, 670, 2, 9, 35, 480, 284, 5, 150, 4, 172, 112, 167, 2, 336, 385, 39, 4, 172, 4536, 1111, 17, 546, 38, 13, 447, 4, 192, 50, 16, 6, 147, 2025, 19, 14, 22, 4, 1920, 4613, 469, 4, 22, 71, 87, 12, 16, 43, 530, 38, 76, 15, 13, 1247, 4, 22, 17, 515, 17, 12, 16, 626, 18, 2, 5, 62, 386, 12, 8, 316, 8, 106, 5, 4, 2223, 5244, 16, 480, 66, 3785, 33, 4, 130, 12, 16, 38, 619, 5, 25, 124, 51, 36, 135, 48, 25, 1415, 33, 6, 22, 12, 215, 28, 77, 52, 5, 14, 407, 16, 82, 2, 8, 4, 107, 117, 5952, 15, 256, 4, 2, 7, 3766, 5, 723, 36, 71, 43, 530, 476, 26, 400, 317, 46, 7, 4, 2, 1029, 13, 104, 88, 4, 381, 15, 297, 98, 32, 2071, 56, 26, 141, 6, 194, 7486, 18, 4, 226, 22, 21, 134, 476, 26, 480, 5, 144, 30, 5535, 18, 51, 36, 28, 224, 92, 25, 104, 4, 226, 65, 16, 38, 1334, 88, 12, 16, 283, 5, 16, 4472, 113, 103, 32, 15, 16, 5345, 19, 178, 32]\n",
      "Sample label: 1\n"
     ]
    }
   ],
   "source": [
    "sample_review = X_train[0]\n",
    "sample_label = y_train[0]\n",
    "print(f\"Sample review (encoded): {sample_review}\")\n",
    "print(f\"Sample label: {sample_label}\")\n"
   ]
  },
  {
   "cell_type": "code",
   "execution_count": 4,
   "id": "c2c39847",
   "metadata": {},
   "outputs": [],
   "source": [
    "word_index = imdb.get_word_index()\n",
    "word_index \n",
    "reversed_word_index = {value: key for key, value in word_index.items()}\n"
   ]
  },
  {
   "cell_type": "code",
   "execution_count": 5,
   "id": "42ca8d71",
   "metadata": {},
   "outputs": [
    {
     "name": "stdout",
     "output_type": "stream",
     "text": [
      "Decoded review: ? this film was just brilliant casting location scenery story direction everyone's really suited the part they played and you could just imagine being there robert ? is an amazing actor and now the same being director ? father came from the same scottish island as myself so i loved the fact there was a real connection with this film the witty remarks throughout the film were great it was just brilliant so much that i bought the film as soon as it was released for ? and would recommend it to everyone to watch and the fly fishing was amazing really cried at the end it was so sad and you know what they say if you cry at a film it must have been good and this definitely was also ? to the two little boy's that played the ? of norman and paul they were just brilliant children are often left out of the ? list i think because the stars that play them all grown up are such a big profile for the whole film but these children are amazing and should be praised for what they have done don't you think the whole story was so lovely because it was true and was someone's life after all that was shared with us all\n"
     ]
    }
   ],
   "source": [
    "decoded_review = ' '.join([reversed_word_index.get(i - 3, '?') for i in sample_review])\n",
    "print(f\"Decoded review: {decoded_review}\")"
   ]
  },
  {
   "cell_type": "code",
   "execution_count": 6,
   "id": "7cc10ec2",
   "metadata": {},
   "outputs": [
    {
     "name": "stdout",
     "output_type": "stream",
     "text": [
      "X_train shape after padding: (25000, 500)\n",
      "[   0    0    0    0    0    0    0    0    0    0    0    0    0    0\n",
      "    0    0    0    0    0    0    0    0    0    0    0    0    0    0\n",
      "    0    0    0    0    0    0    0    0    0    0    0    0    0    0\n",
      "    0    0    0    0    0    0    0    0    0    0    0    0    0    0\n",
      "    0    0    0    0    0    0    0    0    0    0    0    0    0    0\n",
      "    0    0    0    0    0    0    0    0    0    0    0    0    0    0\n",
      "    0    0    0    0    0    0    0    0    0    0    0    0    0    0\n",
      "    0    0    0    0    0    0    0    0    0    0    0    0    0    0\n",
      "    0    0    0    0    0    0    0    0    0    0    0    0    0    0\n",
      "    0    0    0    0    0    0    0    0    0    0    0    0    0    0\n",
      "    0    0    0    0    0    0    0    0    0    0    0    0    0    0\n",
      "    0    0    0    0    0    0    0    0    0    0    0    0    0    0\n",
      "    0    0    0    0    0    0    0    0    0    0    0    0    0    0\n",
      "    0    0    0    0    0    0    0    0    0    0    0    0    0    0\n",
      "    0    0    0    0    0    0    0    0    0    0    0    0    0    0\n",
      "    0    0    0    0    0    0    0    0    0    0    0    0    0    0\n",
      "    0    0    0    0    0    0    0    0    0    0    0    0    0    0\n",
      "    0    0    0    0    0    0    0    0    0    0    0    0    0    0\n",
      "    0    0    0    0    0    0    0    0    0    0    0    0    0    0\n",
      "    0    0    0    0    0    0    0    0    0    0    0    0    0    0\n",
      "    0    0    1   14   22   16   43  530  973 1622 1385   65  458 4468\n",
      "   66 3941    4  173   36  256    5   25  100   43  838  112   50  670\n",
      "    2    9   35  480  284    5  150    4  172  112  167    2  336  385\n",
      "   39    4  172 4536 1111   17  546   38   13  447    4  192   50   16\n",
      "    6  147 2025   19   14   22    4 1920 4613  469    4   22   71   87\n",
      "   12   16   43  530   38   76   15   13 1247    4   22   17  515   17\n",
      "   12   16  626   18    2    5   62  386   12    8  316    8  106    5\n",
      "    4 2223 5244   16  480   66 3785   33    4  130   12   16   38  619\n",
      "    5   25  124   51   36  135   48   25 1415   33    6   22   12  215\n",
      "   28   77   52    5   14  407   16   82    2    8    4  107  117 5952\n",
      "   15  256    4    2    7 3766    5  723   36   71   43  530  476   26\n",
      "  400  317   46    7    4    2 1029   13  104   88    4  381   15  297\n",
      "   98   32 2071   56   26  141    6  194 7486   18    4  226   22   21\n",
      "  134  476   26  480    5  144   30 5535   18   51   36   28  224   92\n",
      "   25  104    4  226   65   16   38 1334   88   12   16  283    5   16\n",
      " 4472  113  103   32   15   16 5345   19  178   32]\n"
     ]
    }
   ],
   "source": [
    "from tensorflow.keras.preprocessing import sequence\n",
    "maxlen = 500  # Maximum length of each review\n",
    "\n",
    "X_train = sequence.pad_sequences(X_train, maxlen=maxlen)\n",
    "X_test = sequence.pad_sequences(X_test, maxlen=maxlen)\n",
    "print(f\"X_train shape after padding: {X_train.shape}\")\n",
    "print(X_train[0])"
   ]
  },
  {
   "cell_type": "code",
   "execution_count": 7,
   "id": "781fcc75",
   "metadata": {},
   "outputs": [
    {
     "name": "stderr",
     "output_type": "stream",
     "text": [
      "c:\\VSCode\\Explore\\semantic_kernal\\.venv\\Lib\\site-packages\\keras\\src\\layers\\core\\embedding.py:93: UserWarning: Do not pass an `input_shape`/`input_dim` argument to a layer. When using Sequential models, prefer using an `Input(shape)` object as the first layer in the model instead.\n",
      "  super().__init__(**kwargs)\n"
     ]
    },
    {
     "data": {
      "text/html": [
       "<pre style=\"white-space:pre;overflow-x:auto;line-height:normal;font-family:Menlo,'DejaVu Sans Mono',consolas,'Courier New',monospace\"><span style=\"font-weight: bold\">Model: \"sequential\"</span>\n",
       "</pre>\n"
      ],
      "text/plain": [
       "\u001b[1mModel: \"sequential\"\u001b[0m\n"
      ]
     },
     "metadata": {},
     "output_type": "display_data"
    },
    {
     "data": {
      "text/html": [
       "<pre style=\"white-space:pre;overflow-x:auto;line-height:normal;font-family:Menlo,'DejaVu Sans Mono',consolas,'Courier New',monospace\">┏━━━━━━━━━━━━━━━━━━━━━━━━━━━━━━━━━┳━━━━━━━━━━━━━━━━━━━━━━━━┳━━━━━━━━━━━━━━━┓\n",
       "┃<span style=\"font-weight: bold\"> Layer (type)                    </span>┃<span style=\"font-weight: bold\"> Output Shape           </span>┃<span style=\"font-weight: bold\">       Param # </span>┃\n",
       "┡━━━━━━━━━━━━━━━━━━━━━━━━━━━━━━━━━╇━━━━━━━━━━━━━━━━━━━━━━━━╇━━━━━━━━━━━━━━━┩\n",
       "│ embedding (<span style=\"color: #0087ff; text-decoration-color: #0087ff\">Embedding</span>)           │ (<span style=\"color: #00d7ff; text-decoration-color: #00d7ff\">None</span>, <span style=\"color: #00af00; text-decoration-color: #00af00\">500</span>, <span style=\"color: #00af00; text-decoration-color: #00af00\">128</span>)       │     <span style=\"color: #00af00; text-decoration-color: #00af00\">1,280,000</span> │\n",
       "├─────────────────────────────────┼────────────────────────┼───────────────┤\n",
       "│ simple_rnn (<span style=\"color: #0087ff; text-decoration-color: #0087ff\">SimpleRNN</span>)          │ (<span style=\"color: #00d7ff; text-decoration-color: #00d7ff\">None</span>, <span style=\"color: #00af00; text-decoration-color: #00af00\">128</span>)            │        <span style=\"color: #00af00; text-decoration-color: #00af00\">32,896</span> │\n",
       "├─────────────────────────────────┼────────────────────────┼───────────────┤\n",
       "│ dense (<span style=\"color: #0087ff; text-decoration-color: #0087ff\">Dense</span>)                   │ (<span style=\"color: #00d7ff; text-decoration-color: #00d7ff\">None</span>, <span style=\"color: #00af00; text-decoration-color: #00af00\">1</span>)              │           <span style=\"color: #00af00; text-decoration-color: #00af00\">129</span> │\n",
       "└─────────────────────────────────┴────────────────────────┴───────────────┘\n",
       "</pre>\n"
      ],
      "text/plain": [
       "┏━━━━━━━━━━━━━━━━━━━━━━━━━━━━━━━━━┳━━━━━━━━━━━━━━━━━━━━━━━━┳━━━━━━━━━━━━━━━┓\n",
       "┃\u001b[1m \u001b[0m\u001b[1mLayer (type)                   \u001b[0m\u001b[1m \u001b[0m┃\u001b[1m \u001b[0m\u001b[1mOutput Shape          \u001b[0m\u001b[1m \u001b[0m┃\u001b[1m \u001b[0m\u001b[1m      Param #\u001b[0m\u001b[1m \u001b[0m┃\n",
       "┡━━━━━━━━━━━━━━━━━━━━━━━━━━━━━━━━━╇━━━━━━━━━━━━━━━━━━━━━━━━╇━━━━━━━━━━━━━━━┩\n",
       "│ embedding (\u001b[38;5;33mEmbedding\u001b[0m)           │ (\u001b[38;5;45mNone\u001b[0m, \u001b[38;5;34m500\u001b[0m, \u001b[38;5;34m128\u001b[0m)       │     \u001b[38;5;34m1,280,000\u001b[0m │\n",
       "├─────────────────────────────────┼────────────────────────┼───────────────┤\n",
       "│ simple_rnn (\u001b[38;5;33mSimpleRNN\u001b[0m)          │ (\u001b[38;5;45mNone\u001b[0m, \u001b[38;5;34m128\u001b[0m)            │        \u001b[38;5;34m32,896\u001b[0m │\n",
       "├─────────────────────────────────┼────────────────────────┼───────────────┤\n",
       "│ dense (\u001b[38;5;33mDense\u001b[0m)                   │ (\u001b[38;5;45mNone\u001b[0m, \u001b[38;5;34m1\u001b[0m)              │           \u001b[38;5;34m129\u001b[0m │\n",
       "└─────────────────────────────────┴────────────────────────┴───────────────┘\n"
      ]
     },
     "metadata": {},
     "output_type": "display_data"
    },
    {
     "data": {
      "text/html": [
       "<pre style=\"white-space:pre;overflow-x:auto;line-height:normal;font-family:Menlo,'DejaVu Sans Mono',consolas,'Courier New',monospace\"><span style=\"font-weight: bold\"> Total params: </span><span style=\"color: #00af00; text-decoration-color: #00af00\">1,313,025</span> (5.01 MB)\n",
       "</pre>\n"
      ],
      "text/plain": [
       "\u001b[1m Total params: \u001b[0m\u001b[38;5;34m1,313,025\u001b[0m (5.01 MB)\n"
      ]
     },
     "metadata": {},
     "output_type": "display_data"
    },
    {
     "data": {
      "text/html": [
       "<pre style=\"white-space:pre;overflow-x:auto;line-height:normal;font-family:Menlo,'DejaVu Sans Mono',consolas,'Courier New',monospace\"><span style=\"font-weight: bold\"> Trainable params: </span><span style=\"color: #00af00; text-decoration-color: #00af00\">1,313,025</span> (5.01 MB)\n",
       "</pre>\n"
      ],
      "text/plain": [
       "\u001b[1m Trainable params: \u001b[0m\u001b[38;5;34m1,313,025\u001b[0m (5.01 MB)\n"
      ]
     },
     "metadata": {},
     "output_type": "display_data"
    },
    {
     "data": {
      "text/html": [
       "<pre style=\"white-space:pre;overflow-x:auto;line-height:normal;font-family:Menlo,'DejaVu Sans Mono',consolas,'Courier New',monospace\"><span style=\"font-weight: bold\"> Non-trainable params: </span><span style=\"color: #00af00; text-decoration-color: #00af00\">0</span> (0.00 B)\n",
       "</pre>\n"
      ],
      "text/plain": [
       "\u001b[1m Non-trainable params: \u001b[0m\u001b[38;5;34m0\u001b[0m (0.00 B)\n"
      ]
     },
     "metadata": {},
     "output_type": "display_data"
    },
    {
     "name": "stdout",
     "output_type": "stream",
     "text": [
      "None\n"
     ]
    }
   ],
   "source": [
    "model = Sequential()\n",
    "model.add(Embedding(max_features, 128, input_shape=(maxlen, )))\n",
    "model.add(SimpleRNN(128, activation='relu'))\n",
    "model.add(Dense(1, activation='sigmoid'))\n",
    "model.compile(optimizer='adam', loss='binary_crossentropy', metrics=['accuracy'])\n",
    "print(model.summary())"
   ]
  },
  {
   "cell_type": "code",
   "execution_count": 8,
   "id": "36a80016",
   "metadata": {},
   "outputs": [],
   "source": [
    "from tensorflow.keras.callbacks import EarlyStopping\n",
    "\n",
    "early_stopping = EarlyStopping(monitor='val_loss', patience=5, restore_best_weights=True)"
   ]
  },
  {
   "cell_type": "code",
   "execution_count": 9,
   "id": "a4a35222",
   "metadata": {},
   "outputs": [
    {
     "name": "stdout",
     "output_type": "stream",
     "text": [
      "Epoch 1/10\n",
      "\u001b[1m625/625\u001b[0m \u001b[32m━━━━━━━━━━━━━━━━━━━━\u001b[0m\u001b[37m\u001b[0m \u001b[1m178s\u001b[0m 279ms/step - accuracy: 0.5753 - loss: 1982579968.0000 - val_accuracy: 0.5092 - val_loss: 0.9569\n",
      "Epoch 2/10\n",
      "\u001b[1m625/625\u001b[0m \u001b[32m━━━━━━━━━━━━━━━━━━━━\u001b[0m\u001b[37m\u001b[0m \u001b[1m173s\u001b[0m 277ms/step - accuracy: 0.6701 - loss: 0.6386 - val_accuracy: 0.6658 - val_loss: 0.5877\n",
      "Epoch 3/10\n",
      "\u001b[1m625/625\u001b[0m \u001b[32m━━━━━━━━━━━━━━━━━━━━\u001b[0m\u001b[37m\u001b[0m \u001b[1m142s\u001b[0m 227ms/step - accuracy: 0.7628 - loss: 0.5146 - val_accuracy: 0.6118 - val_loss: 0.6305\n",
      "Epoch 4/10\n",
      "\u001b[1m625/625\u001b[0m \u001b[32m━━━━━━━━━━━━━━━━━━━━\u001b[0m\u001b[37m\u001b[0m \u001b[1m136s\u001b[0m 218ms/step - accuracy: 0.7412 - loss: 0.5402 - val_accuracy: 0.6386 - val_loss: 0.6287\n",
      "Epoch 5/10\n",
      "\u001b[1m625/625\u001b[0m \u001b[32m━━━━━━━━━━━━━━━━━━━━\u001b[0m\u001b[37m\u001b[0m \u001b[1m190s\u001b[0m 304ms/step - accuracy: 0.6735 - loss: 116329.3750 - val_accuracy: 0.7434 - val_loss: 0.5064\n",
      "Epoch 6/10\n",
      "\u001b[1m625/625\u001b[0m \u001b[32m━━━━━━━━━━━━━━━━━━━━\u001b[0m\u001b[37m\u001b[0m \u001b[1m228s\u001b[0m 344ms/step - accuracy: 0.8637 - loss: 0.3284 - val_accuracy: 0.8220 - val_loss: 0.4033\n",
      "Epoch 7/10\n",
      "\u001b[1m625/625\u001b[0m \u001b[32m━━━━━━━━━━━━━━━━━━━━\u001b[0m\u001b[37m\u001b[0m \u001b[1m238s\u001b[0m 380ms/step - accuracy: 0.9151 - loss: 0.2196 - val_accuracy: 0.8132 - val_loss: 0.4253\n",
      "Epoch 8/10\n",
      "\u001b[1m625/625\u001b[0m \u001b[32m━━━━━━━━━━━━━━━━━━━━\u001b[0m\u001b[37m\u001b[0m \u001b[1m190s\u001b[0m 304ms/step - accuracy: 0.9382 - loss: 0.1729 - val_accuracy: 0.8200 - val_loss: 0.4165\n",
      "Epoch 9/10\n",
      "\u001b[1m625/625\u001b[0m \u001b[32m━━━━━━━━━━━━━━━━━━━━\u001b[0m\u001b[37m\u001b[0m \u001b[1m271s\u001b[0m 433ms/step - accuracy: 0.9587 - loss: 0.1188 - val_accuracy: 0.8324 - val_loss: 0.4339\n",
      "Epoch 10/10\n",
      "\u001b[1m625/625\u001b[0m \u001b[32m━━━━━━━━━━━━━━━━━━━━\u001b[0m\u001b[37m\u001b[0m \u001b[1m204s\u001b[0m 326ms/step - accuracy: 0.9706 - loss: 0.0935 - val_accuracy: 0.8124 - val_loss: 0.4627\n"
     ]
    }
   ],
   "source": [
    "history = model.fit(\n",
    "    X_train, y_train,\n",
    "    epochs=10,\n",
    "    batch_size=32,\n",
    "    validation_split=0.2,\n",
    "    callbacks=[early_stopping]\n",
    ")"
   ]
  },
  {
   "cell_type": "code",
   "execution_count": 10,
   "id": "2a614cbb",
   "metadata": {},
   "outputs": [],
   "source": [
    "model.save(\"imdb_rnn_model.keras\")"
   ]
  },
  {
   "cell_type": "code",
   "execution_count": 11,
   "id": "1fc81765",
   "metadata": {},
   "outputs": [],
   "source": [
    "import numpy as np\n",
    "import tensorflow as tf\n",
    "from tensorflow.keras.models import load_model\n",
    "from tensorflow.keras.preprocessing import sequence\n",
    "from tensorflow.keras.datasets import imdb"
   ]
  },
  {
   "cell_type": "code",
   "execution_count": 14,
   "id": "50983dd2",
   "metadata": {},
   "outputs": [
    {
     "data": {
      "text/html": [
       "<pre style=\"white-space:pre;overflow-x:auto;line-height:normal;font-family:Menlo,'DejaVu Sans Mono',consolas,'Courier New',monospace\"><span style=\"font-weight: bold\">Model: \"sequential\"</span>\n",
       "</pre>\n"
      ],
      "text/plain": [
       "\u001b[1mModel: \"sequential\"\u001b[0m\n"
      ]
     },
     "metadata": {},
     "output_type": "display_data"
    },
    {
     "data": {
      "text/html": [
       "<pre style=\"white-space:pre;overflow-x:auto;line-height:normal;font-family:Menlo,'DejaVu Sans Mono',consolas,'Courier New',monospace\">┏━━━━━━━━━━━━━━━━━━━━━━━━━━━━━━━━━┳━━━━━━━━━━━━━━━━━━━━━━━━┳━━━━━━━━━━━━━━━┓\n",
       "┃<span style=\"font-weight: bold\"> Layer (type)                    </span>┃<span style=\"font-weight: bold\"> Output Shape           </span>┃<span style=\"font-weight: bold\">       Param # </span>┃\n",
       "┡━━━━━━━━━━━━━━━━━━━━━━━━━━━━━━━━━╇━━━━━━━━━━━━━━━━━━━━━━━━╇━━━━━━━━━━━━━━━┩\n",
       "│ embedding (<span style=\"color: #0087ff; text-decoration-color: #0087ff\">Embedding</span>)           │ (<span style=\"color: #00d7ff; text-decoration-color: #00d7ff\">None</span>, <span style=\"color: #00af00; text-decoration-color: #00af00\">500</span>, <span style=\"color: #00af00; text-decoration-color: #00af00\">128</span>)       │     <span style=\"color: #00af00; text-decoration-color: #00af00\">1,280,000</span> │\n",
       "├─────────────────────────────────┼────────────────────────┼───────────────┤\n",
       "│ simple_rnn (<span style=\"color: #0087ff; text-decoration-color: #0087ff\">SimpleRNN</span>)          │ (<span style=\"color: #00d7ff; text-decoration-color: #00d7ff\">None</span>, <span style=\"color: #00af00; text-decoration-color: #00af00\">128</span>)            │        <span style=\"color: #00af00; text-decoration-color: #00af00\">32,896</span> │\n",
       "├─────────────────────────────────┼────────────────────────┼───────────────┤\n",
       "│ dense (<span style=\"color: #0087ff; text-decoration-color: #0087ff\">Dense</span>)                   │ (<span style=\"color: #00d7ff; text-decoration-color: #00d7ff\">None</span>, <span style=\"color: #00af00; text-decoration-color: #00af00\">1</span>)              │           <span style=\"color: #00af00; text-decoration-color: #00af00\">129</span> │\n",
       "└─────────────────────────────────┴────────────────────────┴───────────────┘\n",
       "</pre>\n"
      ],
      "text/plain": [
       "┏━━━━━━━━━━━━━━━━━━━━━━━━━━━━━━━━━┳━━━━━━━━━━━━━━━━━━━━━━━━┳━━━━━━━━━━━━━━━┓\n",
       "┃\u001b[1m \u001b[0m\u001b[1mLayer (type)                   \u001b[0m\u001b[1m \u001b[0m┃\u001b[1m \u001b[0m\u001b[1mOutput Shape          \u001b[0m\u001b[1m \u001b[0m┃\u001b[1m \u001b[0m\u001b[1m      Param #\u001b[0m\u001b[1m \u001b[0m┃\n",
       "┡━━━━━━━━━━━━━━━━━━━━━━━━━━━━━━━━━╇━━━━━━━━━━━━━━━━━━━━━━━━╇━━━━━━━━━━━━━━━┩\n",
       "│ embedding (\u001b[38;5;33mEmbedding\u001b[0m)           │ (\u001b[38;5;45mNone\u001b[0m, \u001b[38;5;34m500\u001b[0m, \u001b[38;5;34m128\u001b[0m)       │     \u001b[38;5;34m1,280,000\u001b[0m │\n",
       "├─────────────────────────────────┼────────────────────────┼───────────────┤\n",
       "│ simple_rnn (\u001b[38;5;33mSimpleRNN\u001b[0m)          │ (\u001b[38;5;45mNone\u001b[0m, \u001b[38;5;34m128\u001b[0m)            │        \u001b[38;5;34m32,896\u001b[0m │\n",
       "├─────────────────────────────────┼────────────────────────┼───────────────┤\n",
       "│ dense (\u001b[38;5;33mDense\u001b[0m)                   │ (\u001b[38;5;45mNone\u001b[0m, \u001b[38;5;34m1\u001b[0m)              │           \u001b[38;5;34m129\u001b[0m │\n",
       "└─────────────────────────────────┴────────────────────────┴───────────────┘\n"
      ]
     },
     "metadata": {},
     "output_type": "display_data"
    },
    {
     "data": {
      "text/html": [
       "<pre style=\"white-space:pre;overflow-x:auto;line-height:normal;font-family:Menlo,'DejaVu Sans Mono',consolas,'Courier New',monospace\"><span style=\"font-weight: bold\"> Total params: </span><span style=\"color: #00af00; text-decoration-color: #00af00\">3,939,077</span> (15.03 MB)\n",
       "</pre>\n"
      ],
      "text/plain": [
       "\u001b[1m Total params: \u001b[0m\u001b[38;5;34m3,939,077\u001b[0m (15.03 MB)\n"
      ]
     },
     "metadata": {},
     "output_type": "display_data"
    },
    {
     "data": {
      "text/html": [
       "<pre style=\"white-space:pre;overflow-x:auto;line-height:normal;font-family:Menlo,'DejaVu Sans Mono',consolas,'Courier New',monospace\"><span style=\"font-weight: bold\"> Trainable params: </span><span style=\"color: #00af00; text-decoration-color: #00af00\">1,313,025</span> (5.01 MB)\n",
       "</pre>\n"
      ],
      "text/plain": [
       "\u001b[1m Trainable params: \u001b[0m\u001b[38;5;34m1,313,025\u001b[0m (5.01 MB)\n"
      ]
     },
     "metadata": {},
     "output_type": "display_data"
    },
    {
     "data": {
      "text/html": [
       "<pre style=\"white-space:pre;overflow-x:auto;line-height:normal;font-family:Menlo,'DejaVu Sans Mono',consolas,'Courier New',monospace\"><span style=\"font-weight: bold\"> Non-trainable params: </span><span style=\"color: #00af00; text-decoration-color: #00af00\">0</span> (0.00 B)\n",
       "</pre>\n"
      ],
      "text/plain": [
       "\u001b[1m Non-trainable params: \u001b[0m\u001b[38;5;34m0\u001b[0m (0.00 B)\n"
      ]
     },
     "metadata": {},
     "output_type": "display_data"
    },
    {
     "data": {
      "text/html": [
       "<pre style=\"white-space:pre;overflow-x:auto;line-height:normal;font-family:Menlo,'DejaVu Sans Mono',consolas,'Courier New',monospace\"><span style=\"font-weight: bold\"> Optimizer params: </span><span style=\"color: #00af00; text-decoration-color: #00af00\">2,626,052</span> (10.02 MB)\n",
       "</pre>\n"
      ],
      "text/plain": [
       "\u001b[1m Optimizer params: \u001b[0m\u001b[38;5;34m2,626,052\u001b[0m (10.02 MB)\n"
      ]
     },
     "metadata": {},
     "output_type": "display_data"
    }
   ],
   "source": [
    "word_index = imdb.get_word_index()\n",
    "reversed_word_index = {value: key for key, value in word_index.items()}\n",
    "model = load_model(\"imdb_rnn_model.keras\")\n",
    "\n",
    "model.summary()\n"
   ]
  },
  {
   "cell_type": "code",
   "execution_count": 15,
   "id": "5689fb7f",
   "metadata": {},
   "outputs": [
    {
     "data": {
      "text/plain": [
       "[array([[ 0.75566655,  0.68189114,  0.9035258 , ..., -0.6239179 ,\n",
       "          1.0627013 ,  0.37128806],\n",
       "        [-0.00513448, -0.02267084, -0.03588379, ...,  0.04033989,\n",
       "          0.03175377, -0.00192095],\n",
       "        [ 0.11235578,  0.15262622,  0.031303  , ...,  0.14858851,\n",
       "          0.16303656,  0.00297571],\n",
       "        ...,\n",
       "        [ 0.04518361,  0.02893979,  0.05121486, ..., -0.03224577,\n",
       "         -0.06473435, -0.05110775],\n",
       "        [-0.00143787,  0.13440077,  0.01367144, ...,  0.04514855,\n",
       "          0.00207102, -0.01355712],\n",
       "        [-0.00977771, -0.11247698, -0.09516192, ...,  0.04767238,\n",
       "         -0.00849668, -0.05806047]], dtype=float32),\n",
       " array([[-0.19309692,  0.08668841,  0.00512892, ..., -0.07627876,\n",
       "         -0.09959181, -0.12438269],\n",
       "        [ 0.03888923,  0.15691736, -0.02558002, ...,  0.04493775,\n",
       "          0.01263996, -0.18362094],\n",
       "        [ 0.12859985, -0.12128706,  0.05886774, ..., -0.03490498,\n",
       "         -0.12440211,  0.02707448],\n",
       "        ...,\n",
       "        [-0.14812444,  0.13396731, -0.16063276, ..., -0.02741334,\n",
       "          0.1372999 , -0.05358125],\n",
       "        [-0.13159294, -0.02168676,  0.03955863, ...,  0.07684135,\n",
       "          0.13601798, -0.11505555],\n",
       "        [-0.04676428, -0.12882906,  0.09099909, ...,  0.06893441,\n",
       "         -0.10563784, -0.04715843]], dtype=float32),\n",
       " array([[-0.0084528 , -0.19792074,  0.20834476, ..., -0.04628234,\n",
       "          0.00430482, -0.0424885 ],\n",
       "        [-0.05896474,  0.06861819,  0.2278866 , ..., -0.17595771,\n",
       "          0.07129895,  0.12577754],\n",
       "        [-0.01610086, -0.12602198, -0.07595447, ..., -0.0704539 ,\n",
       "         -0.03583967, -0.11863477],\n",
       "        ...,\n",
       "        [ 0.10839378,  0.08308854,  0.24215715, ...,  0.07405958,\n",
       "         -0.04099328, -0.01269875],\n",
       "        [-0.10882834,  0.07032187,  0.06456188, ...,  0.00931129,\n",
       "         -0.06914034, -0.10667636],\n",
       "        [-0.11161385, -0.00681994,  0.07846329, ..., -0.13743386,\n",
       "          0.08993089,  0.01938744]], dtype=float32),\n",
       " array([-0.02995486,  0.05289068, -0.00261064,  0.04561724, -0.02909817,\n",
       "         0.01136567,  0.03154105,  0.02113522,  0.04338721, -0.00309054,\n",
       "         0.02582149, -0.01176394, -0.05286237, -0.04238389,  0.02882118,\n",
       "        -0.0262436 , -0.02973372,  0.02449525, -0.01847188,  0.01275016,\n",
       "        -0.0284862 ,  0.1637086 , -0.0182443 ,  0.04786381,  0.03613026,\n",
       "        -0.03887121, -0.02265625, -0.03895545,  0.03753056, -0.04415921,\n",
       "        -0.00110423, -0.0052935 , -0.03239714, -0.05465373, -0.0264408 ,\n",
       "         0.01823362, -0.03913041,  0.02980184,  0.01149771,  0.03385153,\n",
       "        -0.00456418,  0.03972036, -0.03057158, -0.05081822, -0.06966377,\n",
       "        -0.01378976,  0.02734206, -0.0673191 , -0.03509527, -0.01714141,\n",
       "        -0.00327429, -0.03673831, -0.02156638,  0.03934732, -0.04301948,\n",
       "         0.01078678, -0.02415974, -0.02720586, -0.03342355, -0.00048892,\n",
       "        -0.01120716, -0.03573448, -0.0247664 ,  0.03733756, -0.01182641,\n",
       "         0.02024579, -0.05906755,  0.00375841, -0.0208139 ,  0.00114936,\n",
       "        -0.00239544, -0.01970436,  0.01669241, -0.00550052,  0.01852328,\n",
       "        -0.04234172,  0.01306736, -0.05478313, -0.01576861,  0.04910107,\n",
       "         0.02655472,  0.04301141,  0.00518557,  0.05423416, -0.0298022 ,\n",
       "        -0.01332169,  0.0400968 , -0.03958999,  0.00350268, -0.01283176,\n",
       "         0.02135148, -0.03343918, -0.0101147 , -0.04064983,  0.00232658,\n",
       "        -0.0364095 , -0.0072445 , -0.11838946, -0.0293508 ,  0.00094416,\n",
       "        -0.02705036, -0.00288301, -0.02668102,  0.02998188, -0.0125473 ,\n",
       "         0.04734373,  0.01427617, -0.03463185, -0.03026174, -0.0364904 ,\n",
       "        -0.02412458, -0.02100322,  0.028232  , -0.03377277, -0.03254173,\n",
       "        -0.04925354,  0.04090915, -0.01451562,  0.03956228, -0.01745459,\n",
       "         0.02301106, -0.02607636, -0.00283733,  0.02914407,  0.04697124,\n",
       "        -0.02555384,  0.03462217, -0.01522676], dtype=float32),\n",
       " array([[ 0.45394793],\n",
       "        [-0.20217054],\n",
       "        [-0.22294158],\n",
       "        [ 0.37656203],\n",
       "        [-0.19036664],\n",
       "        [ 0.19403376],\n",
       "        [ 0.13668464],\n",
       "        [ 0.24826339],\n",
       "        [-0.05494329],\n",
       "        [ 0.14454272],\n",
       "        [-0.20482714],\n",
       "        [-0.18101646],\n",
       "        [-0.24930926],\n",
       "        [-0.06845649],\n",
       "        [-0.04505011],\n",
       "        [ 0.00659438],\n",
       "        [-0.06423406],\n",
       "        [ 0.13861308],\n",
       "        [ 0.21096054],\n",
       "        [ 0.24321702],\n",
       "        [-0.13611764],\n",
       "        [ 0.06864462],\n",
       "        [-0.16423255],\n",
       "        [-0.15332128],\n",
       "        [ 0.09818859],\n",
       "        [ 0.18514721],\n",
       "        [ 0.12656234],\n",
       "        [ 0.10670453],\n",
       "        [-0.0524683 ],\n",
       "        [ 0.16719039],\n",
       "        [-0.3460337 ],\n",
       "        [ 0.0418732 ],\n",
       "        [ 0.20935059],\n",
       "        [-0.13621816],\n",
       "        [-0.20342478],\n",
       "        [ 0.10377412],\n",
       "        [-0.24823971],\n",
       "        [ 0.06702635],\n",
       "        [ 0.0772123 ],\n",
       "        [-0.10245941],\n",
       "        [-0.35425287],\n",
       "        [-0.19522549],\n",
       "        [ 0.09011701],\n",
       "        [ 0.00935697],\n",
       "        [ 0.00138993],\n",
       "        [-0.08176982],\n",
       "        [-0.08835982],\n",
       "        [ 0.0412282 ],\n",
       "        [ 0.18945467],\n",
       "        [-0.15146142],\n",
       "        [ 0.00179772],\n",
       "        [ 0.22915126],\n",
       "        [ 0.15955833],\n",
       "        [-0.4087936 ],\n",
       "        [-0.23372138],\n",
       "        [-0.10248118],\n",
       "        [ 0.09600972],\n",
       "        [-0.16408068],\n",
       "        [ 0.17874026],\n",
       "        [-0.6253421 ],\n",
       "        [ 0.24667333],\n",
       "        [-0.03997779],\n",
       "        [ 0.2326315 ],\n",
       "        [-0.27831712],\n",
       "        [ 0.23335567],\n",
       "        [ 0.2516392 ],\n",
       "        [ 0.0358832 ],\n",
       "        [ 0.11104764],\n",
       "        [ 0.08499831],\n",
       "        [ 0.13154173],\n",
       "        [-0.02740993],\n",
       "        [ 0.13960505],\n",
       "        [-0.18727171],\n",
       "        [ 0.00655158],\n",
       "        [ 0.33425626],\n",
       "        [ 0.01688713],\n",
       "        [ 0.17007838],\n",
       "        [-0.04256881],\n",
       "        [ 0.22066692],\n",
       "        [-0.00840996],\n",
       "        [ 0.01810332],\n",
       "        [ 0.37231395],\n",
       "        [-0.08881457],\n",
       "        [ 0.23767897],\n",
       "        [-0.36599144],\n",
       "        [-0.02820674],\n",
       "        [ 0.14164013],\n",
       "        [-0.20286252],\n",
       "        [ 0.00818137],\n",
       "        [-0.1985835 ],\n",
       "        [ 0.08672059],\n",
       "        [ 0.16544133],\n",
       "        [-0.17662446],\n",
       "        [-0.11089572],\n",
       "        [-0.32469445],\n",
       "        [ 0.19484125],\n",
       "        [-0.00961196],\n",
       "        [-0.20923977],\n",
       "        [ 0.13780229],\n",
       "        [ 0.2162041 ],\n",
       "        [ 0.04184978],\n",
       "        [-0.14833516],\n",
       "        [ 0.00997943],\n",
       "        [-0.26950276],\n",
       "        [-0.276194  ],\n",
       "        [ 0.06850805],\n",
       "        [-0.14087899],\n",
       "        [-0.08685079],\n",
       "        [ 0.20725156],\n",
       "        [-0.40231788],\n",
       "        [ 0.14449045],\n",
       "        [ 0.20557302],\n",
       "        [ 0.158733  ],\n",
       "        [ 0.21101686],\n",
       "        [ 0.17628849],\n",
       "        [ 0.15525813],\n",
       "        [-0.126125  ],\n",
       "        [ 0.26725385],\n",
       "        [-0.14266784],\n",
       "        [ 0.04110967],\n",
       "        [-0.18337855],\n",
       "        [ 0.03791621],\n",
       "        [-0.19883552],\n",
       "        [-0.09773753],\n",
       "        [-0.29333088],\n",
       "        [-0.09215742],\n",
       "        [-0.17915986],\n",
       "        [ 0.21135227]], dtype=float32),\n",
       " array([-0.2904122], dtype=float32)]"
      ]
     },
     "execution_count": 15,
     "metadata": {},
     "output_type": "execute_result"
    }
   ],
   "source": [
    "model.get_weights()"
   ]
  },
  {
   "cell_type": "code",
   "execution_count": 26,
   "id": "47b4ac46",
   "metadata": {},
   "outputs": [],
   "source": [
    "def decode_review(encoded_review):\n",
    "    word_index = imdb.get_word_index()\n",
    "    reversed_word_index = {value: key for key, value in word_index.items()}\n",
    "    return ' '.join([reversed_word_index.get(i - 3, '?') for i in encoded_review])\n",
    "\n",
    "def preprocess_review(review):\n",
    "    words = review.lower().split()\n",
    "    word_index = imdb.get_word_index()\n",
    "    encoded_review = [word_index.get(word, 2) + 3 for word in words]\n",
    "    padded_review = sequence.pad_sequences([encoded_review], maxlen=500)\n",
    "    return padded_review\n"
   ]
  },
  {
   "cell_type": "code",
   "execution_count": null,
   "id": "350ee5e6",
   "metadata": {},
   "outputs": [
    {
     "data": {
      "text/plain": [
       "14"
      ]
     },
     "execution_count": 25,
     "metadata": {},
     "output_type": "execute_result"
    }
   ],
   "source": [
    "# review = \"\"\"This movie was fantastic! The acting was top-notch and the plot was gripping. I would highly recommend it to anyone looking for a great film.\"\"\"\n",
    "\n",
    "# words = review.lower().split()\n",
    "\n",
    "# word_index = imdb.get_word_index()\n",
    "\n",
    "# # encoded_review = [word_index.get(word, 2) + 3 for word in words]\n",
    "\n",
    "# word_index.get(\"this\", 2) + 3  # 2 is the index for unknown words, +3 to account for the offset in the IMDB dataset\n",
    "\n",
    "# # words"
   ]
  },
  {
   "cell_type": "code",
   "execution_count": 27,
   "id": "9d7d1171",
   "metadata": {},
   "outputs": [],
   "source": [
    "def predict_review(review):\n",
    "    padded_review = preprocess_review(review)\n",
    "    prediction = model.predict(padded_review)\n",
    "    sentiment = \"positive\" if prediction[0][0] > 0.5 else \"negative\"\n",
    "    return  sentiment, prediction[0][0]"
   ]
  },
  {
   "cell_type": "code",
   "execution_count": 28,
   "id": "b2d3d65c",
   "metadata": {},
   "outputs": [
    {
     "name": "stdout",
     "output_type": "stream",
     "text": [
      "\u001b[1m1/1\u001b[0m \u001b[32m━━━━━━━━━━━━━━━━━━━━\u001b[0m\u001b[37m\u001b[0m \u001b[1m0s\u001b[0m 261ms/step\n",
      "Review: This movie was fantastic! The acting was top-notch and the plot was gripping. I would highly recommend it to anyone looking for a great film.\n",
      "Sentiment: positive\n",
      "Prediction probability: 0.9363954067230225\n"
     ]
    }
   ],
   "source": [
    "review = \"This movie was fantastic! The acting was top-notch and the plot was gripping. I would highly recommend it to anyone looking for a great film.\"\n",
    "\n",
    "sentiment, prediction = predict_review(review)\n",
    "\n",
    "print(f\"Review: {review}\")\n",
    "print(f\"Sentiment: {sentiment}\")\n",
    "print(f\"Prediction probability: {prediction}\")"
   ]
  }
 ],
 "metadata": {
  "kernelspec": {
   "display_name": ".venv (3.12.7)",
   "language": "python",
   "name": "python3"
  },
  "language_info": {
   "codemirror_mode": {
    "name": "ipython",
    "version": 3
   },
   "file_extension": ".py",
   "mimetype": "text/x-python",
   "name": "python",
   "nbconvert_exporter": "python",
   "pygments_lexer": "ipython3",
   "version": "3.12.7"
  }
 },
 "nbformat": 4,
 "nbformat_minor": 5
}
